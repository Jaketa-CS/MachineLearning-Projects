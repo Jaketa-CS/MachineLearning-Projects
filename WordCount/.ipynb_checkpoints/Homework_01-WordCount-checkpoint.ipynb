{
 "cells": [
  {
   "cell_type": "markdown",
   "id": "eaf21a2b",
   "metadata": {},
   "source": [
    "# import necessary modules"
   ]
  },
  {
   "cell_type": "code",
   "execution_count": 2,
   "id": "0ecadad5",
   "metadata": {},
   "outputs": [],
   "source": [
    "#import ... \n",
    "from collections import Counter\n"
   ]
  },
  {
   "cell_type": "markdown",
   "id": "11bfa639",
   "metadata": {},
   "source": [
    "# get file names from user"
   ]
  },
  {
   "cell_type": "code",
   "execution_count": 5,
   "id": "9e5bbd02",
   "metadata": {},
   "outputs": [
    {
     "name": "stdin",
     "output_type": "stream",
     "text": [
      "Hey! Enter the name of the input file:  ItsyBitsySpider.txt\n"
     ]
    }
   ],
   "source": [
    "#code goes here...\n",
    "input_file = input(\"Hey! Enter the name of the input file: \")\n"
   ]
  },
  {
   "cell_type": "markdown",
   "id": "b7b5632d",
   "metadata": {},
   "source": [
    "# generate word counts of input file"
   ]
  },
  {
   "cell_type": "code",
   "execution_count": 7,
   "id": "debb38f7",
   "metadata": {
    "scrolled": true
   },
   "outputs": [],
   "source": [
    "#code goes here\n",
    "word_counts = Counter()\n",
    "\n",
    "# Open the file and read its contents\n",
    "with open(input_file, 'r') as file:\n",
    "    # Read the content, split it into words, and convert to lowercase\n",
    "    words = file.read().lower().split()\n",
    "\n",
    "    # Update the Counter with the words\n",
    "    word_counts.update(words)"
   ]
  },
  {
   "cell_type": "markdown",
   "id": "5fd79d36",
   "metadata": {},
   "source": [
    "# write word counts (sorted by word) to output file"
   ]
  },
  {
   "cell_type": "code",
   "execution_count": 9,
   "id": "a8d945d1",
   "metadata": {},
   "outputs": [
    {
     "name": "stdin",
     "output_type": "stream",
     "text": [
      "Enter the name of the output file:  words.txt\n"
     ]
    }
   ],
   "source": [
    "output_file = input(\"Enter the name of the output file: \")\n",
    "\n",
    "with open(output_file, 'w') as file:\n",
    "    # Sort the word counts by word and write to the file...\n",
    "    for word, count in sorted(word_counts.items()):\n",
    "        file.write(f\"{word}: {count}\\n\")\n"
   ]
  },
  {
   "cell_type": "markdown",
   "id": "062114cf",
   "metadata": {},
   "source": [
    "# print word with max count"
   ]
  },
  {
   "cell_type": "code",
   "execution_count": 11,
   "id": "5a8ec5ff",
   "metadata": {},
   "outputs": [
    {
     "name": "stdout",
     "output_type": "stream",
     "text": [
      "The word with the maximum count is 'the' with count 8.\n"
     ]
    }
   ],
   "source": [
    "max_word = word_counts.most_common(1)[0][0]\n",
    "print(f\"The word with the maximum count is '{max_word}' with count {word_counts[max_word]}.\")"
   ]
  },
  {
   "cell_type": "code",
   "execution_count": null,
   "id": "e67a321c-e374-4ee6-b915-fab1d805ffb3",
   "metadata": {},
   "outputs": [],
   "source": []
  },
  {
   "cell_type": "code",
   "execution_count": null,
   "id": "1a164326-5fb1-4c5d-901d-cbb32fff42e8",
   "metadata": {},
   "outputs": [],
   "source": []
  }
 ],
 "metadata": {
  "kernelspec": {
   "display_name": "Python 3 (ipykernel)",
   "language": "python",
   "name": "python3"
  },
  "language_info": {
   "codemirror_mode": {
    "name": "ipython",
    "version": 3
   },
   "file_extension": ".py",
   "mimetype": "text/x-python",
   "name": "python",
   "nbconvert_exporter": "python",
   "pygments_lexer": "ipython3",
   "version": "3.10.6"
  }
 },
 "nbformat": 4,
 "nbformat_minor": 5
}
